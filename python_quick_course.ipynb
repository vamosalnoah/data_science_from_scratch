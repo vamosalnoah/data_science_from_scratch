{
 "cells": [
  {
   "cell_type": "markdown",
   "id": "f96a6c83",
   "metadata": {},
   "source": [
    "# Python Quick Course"
   ]
  },
  {
   "cell_type": "markdown",
   "id": "9bc32e07",
   "metadata": {},
   "source": [
    "Get Python from python.org"
   ]
  },
  {
   "cell_type": "markdown",
   "id": "9c30afee",
   "metadata": {},
   "source": [
    "#### Virtual Enviroments"
   ]
  },
  {
   "cell_type": "code",
   "execution_count": null,
   "id": "c6a91be3",
   "metadata": {},
   "outputs": [],
   "source": [
    "# Better for specific versions of Python or packages/libraries\n",
    "# Options: Anaconda, virtualenv, preferent venv (python integrated module)\n",
    "\n",
    "# venv steps:\n",
    "# 1. Download and install Python.\n",
    "#   Exec following commands in PowerShell terminal: \n",
    "# 2. Move to desired directory to create virtual env.\n",
    "# 3. Exec: & \"C:\\Ruta\\a\\pythonkernel\\python.exe\" -m venv env_name\n",
    "#   Activate:\n",
    "# 4. Exec: Set-ExecutionPolicy -ExecutionPolicy RemoteSigned -Scope CurrentUser\n",
    "# 5. Exec: .\\env_name\\Scripts\\Activate.ps1\n",
    "#    Terminal change to indicate active env\n",
    "\n",
    "#   Optional if Jupyter Notebooks are needed:\n",
    "# 6. Exec: pip install jupyter ipykernel\n",
    "# 7. Exec: python -m ipykernel install --user --name env_name --display-name \"kernel_alias\""
   ]
  },
  {
   "cell_type": "markdown",
   "id": "d68d7337",
   "metadata": {},
   "source": [
    "### Python Zen"
   ]
  },
  {
   "cell_type": "code",
   "execution_count": 1,
   "id": "2de27cd6",
   "metadata": {},
   "outputs": [
    {
     "name": "stdout",
     "output_type": "stream",
     "text": [
      "The Zen of Python, by Tim Peters\n",
      "\n",
      "Beautiful is better than ugly.\n",
      "Explicit is better than implicit.\n",
      "Simple is better than complex.\n",
      "Complex is better than complicated.\n",
      "Flat is better than nested.\n",
      "Sparse is better than dense.\n",
      "Readability counts.\n",
      "Special cases aren't special enough to break the rules.\n",
      "Although practicality beats purity.\n",
      "Errors should never pass silently.\n",
      "Unless explicitly silenced.\n",
      "In the face of ambiguity, refuse the temptation to guess.\n",
      "There should be one-- and preferably only one --obvious way to do it.\n",
      "Although that way may not be obvious at first unless you're Dutch.\n",
      "Now is better than never.\n",
      "Although never is often better than *right* now.\n",
      "If the implementation is hard to explain, it's a bad idea.\n",
      "If the implementation is easy to explain, it may be a good idea.\n",
      "Namespaces are one honking great idea -- let's do more of those!\n"
     ]
    }
   ],
   "source": [
    "import this"
   ]
  },
  {
   "cell_type": "markdown",
   "id": "35d60a67",
   "metadata": {},
   "source": [
    "### Blanks & Spaces Format"
   ]
  },
  {
   "cell_type": "code",
   "execution_count": null,
   "id": "31f6f4af",
   "metadata": {},
   "outputs": [
    {
     "name": "stdout",
     "output_type": "stream",
     "text": [
      "1\n",
      "1\n",
      "2\n",
      "2\n",
      "3\n",
      "3\n",
      "4\n",
      "4\n",
      "5\n",
      "5\n",
      "6\n",
      "1\n",
      "2\n",
      "1\n",
      "3\n",
      "2\n",
      "4\n",
      "3\n",
      "5\n",
      "4\n",
      "6\n",
      "5\n",
      "7\n",
      "2\n",
      "3\n",
      "1\n",
      "4\n",
      "2\n",
      "5\n",
      "3\n",
      "6\n",
      "4\n",
      "7\n",
      "5\n",
      "8\n",
      "3\n",
      "4\n",
      "1\n",
      "5\n",
      "2\n",
      "6\n",
      "3\n",
      "7\n",
      "4\n",
      "8\n",
      "5\n",
      "9\n",
      "4\n",
      "5\n",
      "1\n",
      "6\n",
      "2\n",
      "7\n",
      "3\n",
      "8\n",
      "4\n",
      "9\n",
      "5\n",
      "10\n",
      "5\n",
      "loop done\n"
     ]
    }
   ],
   "source": [
    "# Identation is used by Python to limit code blocks\n",
    "# This symbol \"#\" indicates a coment starting, coments are ignored bye Python. Useful for everyone who reads the code\n",
    "\n",
    "for i in [1, 2, 3, 4, 5]:\n",
    "    print(i)                        # First line of block \"for i\"\n",
    "    for j in [1, 2, 3, 4, 5]:\n",
    "        print(j)                    # First line of block \"for j\"\n",
    "        print(i + j)                # Last line of block \"for j\"\n",
    "    print(i)                        # Last line of block \"for i\"\n",
    "print(\"loop done\")"
   ]
  },
  {
   "cell_type": "code",
   "execution_count": 4,
   "id": "bfeabf3b",
   "metadata": {},
   "outputs": [
    {
     "name": "stdout",
     "output_type": "stream",
     "text": [
      "(1, 2, 3, 4, 5, 6, 7, 8, 9, 10, 11, 12, 13, 14, 15, 16, 17, 18, 19, 20)\n",
      "[[1, 2, 3], [4, 5, 6], [7, 8, 9]]\n",
      "[[1, 2, 3], [4, 5, 6], [7, 8, 9]]\n"
     ]
    }
   ],
   "source": [
    "# Blank spaces are ignored into \"()\" and \"[]\" useful for huge calculations\n",
    "\n",
    "long_computation = (1, 2, 3, 4, 5, 6, 7, 8, 9, 10, 11, 12, \n",
    "                    +\n",
    "                    13, 14, 15, 16, 17, 18, 19, 20)\n",
    "\n",
    "# And useful to read code easier\n",
    "\n",
    "list_of_lists = [[1, 2, 3], [4, 5, 6], [7, 8, 9]]\n",
    "easier_to_read = [[1, 2, 3],\n",
    "                  [4, 5, 6],\n",
    "                  [7, 8, 9]]\n",
    "\n",
    "print(long_computation)\n",
    "print(list_of_lists)\n",
    "print(easier_to_read)"
   ]
  },
  {
   "cell_type": "code",
   "execution_count": 6,
   "id": "ba424e21",
   "metadata": {},
   "outputs": [
    {
     "name": "stdout",
     "output_type": "stream",
     "text": [
      "5\n"
     ]
    }
   ],
   "source": [
    "# Also a backslash \"\\\" could be used to indicate that an instruction continues at next line (rarely used)\n",
    "\n",
    "two_plus_three = 2 + \\\n",
    "    3\n",
    "\n",
    "print(two_plus_three)"
   ]
  },
  {
   "cell_type": "markdown",
   "id": "a92af8da",
   "metadata": {},
   "source": [
    "### Modules"
   ]
  },
  {
   "cell_type": "code",
   "execution_count": null,
   "id": "46a8db8f",
   "metadata": {},
   "outputs": [
    {
     "name": "stdout",
     "output_type": "stream",
     "text": [
      "re.compile('[0-9]+', re.IGNORECASE)\n"
     ]
    }
   ],
   "source": [
    "# Import modules to be able to use external functions or functions not loaded by default\n",
    "\n",
    "# Import module \n",
    "import re\n",
    "my_regex = re.compile('[0-9]+', re.I)       # This way, the preffix \"re.\" is needed to access the functions\n",
    "print(my_regex)"
   ]
  },
  {
   "cell_type": "code",
   "execution_count": null,
   "id": "c9402c10",
   "metadata": {},
   "outputs": [
    {
     "name": "stdout",
     "output_type": "stream",
     "text": [
      "re.compile('[0-9]+', re.IGNORECASE)\n"
     ]
    }
   ],
   "source": [
    "# Another name can be used if the same name had be used previously\n",
    "\n",
    "import re as regex\n",
    "my_regex = regex.compile('[0-9]+', regex.I)\n",
    "print(my_regex)\n",
    "\n",
    "# This way can also be uses if the name is difficult to handle or it will be written a lot of times, for example:\n",
    "\n",
    "import matplotlib.pyplot as plt         # Convention for matplotlib\n",
    "plt.plot()"
   ]
  },
  {
   "cell_type": "code",
   "execution_count": null,
   "id": "5d624efd",
   "metadata": {},
   "outputs": [],
   "source": [
    "# If specifics values are needed, they can be imported explicitly\n",
    "\n",
    "from collections import defaultdict, Counter\n",
    "lookup = defaultdict(int)\n",
    "my_counter = Counter()"
   ]
  },
  {
   "cell_type": "code",
   "execution_count": 10,
   "id": "42794438",
   "metadata": {},
   "outputs": [
    {
     "name": "stdout",
     "output_type": "stream",
     "text": [
      "<function match at 0x000002A4717E0510>\n"
     ]
    }
   ],
   "source": [
    "# Importing whole content from a module (with \"*\"), could overwrite defined variables\n",
    "\n",
    "match = 10\n",
    "from re import *        # re has a \"match\" function\n",
    "print(match)"
   ]
  },
  {
   "cell_type": "markdown",
   "id": "4d0575f9",
   "metadata": {},
   "source": [
    "### Functions"
   ]
  },
  {
   "cell_type": "code",
   "execution_count": null,
   "id": "0c23995f",
   "metadata": {},
   "outputs": [
    {
     "name": "stdout",
     "output_type": "stream",
     "text": [
      "2\n"
     ]
    }
   ],
   "source": [
    "# A function is a rule that takes 0 or more inputs and returns an output, functions are defined with \"def\"\n",
    "\n",
    "def double(x):\n",
    "    \"\"\"\n",
    "    docstring explaining what the function does\n",
    "    \"\"\"\n",
    "    return x * 2\n",
    "\n",
    "double_num = double(1)\n",
    "print(double_num)"
   ]
  },
  {
   "cell_type": "code",
   "execution_count": null,
   "id": "1167364b",
   "metadata": {},
   "outputs": [
    {
     "name": "stdout",
     "output_type": "stream",
     "text": [
      "10\n"
     ]
    }
   ],
   "source": [
    "# As first class functions, could be assigned to variables and given as an argument to another function\n",
    "\n",
    "def apply_to_x(f, x):\n",
    "    \"\"\"Calls the function \"f\" as its argument\"\"\"\n",
    "    return f(x)\n",
    "\n",
    "my_double = double\n",
    "\n",
    "x = apply_to_x(my_double, 5)\n",
    "print(x)"
   ]
  },
  {
   "cell_type": "code",
   "execution_count": null,
   "id": "ec473397",
   "metadata": {},
   "outputs": [
    {
     "name": "stdout",
     "output_type": "stream",
     "text": [
      "5\n"
     ]
    }
   ],
   "source": [
    "# It's easy to create short anonnymous functions called lambdas\n",
    "\n",
    "def apply_to_one(f):\n",
    "    \"\"\"Calls the function \"f\" as its argument\"\"\"\n",
    "    return f(1)\n",
    "\n",
    "y = apply_to_one(lambda x: x + 4)\n",
    "print(y)\n",
    "\n",
    "# lambdas could be assigned to variables but instead def could be used:\n",
    "\n",
    "another_double = lambda x: 2 * x    # Avoid this\n",
    "\n",
    "def another_double(x):              # Do this instead\n",
    "    return 2 * x"
   ]
  },
  {
   "cell_type": "code",
   "execution_count": null,
   "id": "26a23b26",
   "metadata": {},
   "outputs": [
    {
     "name": "stdout",
     "output_type": "stream",
     "text": [
      "default message\n",
      "hello\n"
     ]
    }
   ],
   "source": [
    "# Default arguments could be assigned to parameters function\n",
    "\n",
    "def my_print(message = 'default message'):\n",
    "    print(message)\n",
    "    \n",
    "my_print()\n",
    "my_print('hello')"
   ]
  },
  {
   "cell_type": "code",
   "execution_count": null,
   "id": "8a349456",
   "metadata": {},
   "outputs": [
    {
     "name": "stdout",
     "output_type": "stream",
     "text": [
      "Noah Gonzalez\n",
      "Noah something\n",
      "what-his-name Gonzalez\n"
     ]
    }
   ],
   "source": [
    "# Sometimes especify arguments is useful\n",
    "\n",
    "def full_name(first = 'what-his-name', last = 'something'):\n",
    "    return first + ' ' + last\n",
    "\n",
    "print(full_name('Noah', 'Gonzalez'))\n",
    "print(full_name('Noah'))\n",
    "print(full_name(last='Gonzalez'))"
   ]
  },
  {
   "cell_type": "markdown",
   "id": "85c2677b",
   "metadata": {},
   "source": [
    "### Strings"
   ]
  },
  {
   "cell_type": "code",
   "execution_count": null,
   "id": "247cd1c4",
   "metadata": {},
   "outputs": [
    {
     "name": "stdout",
     "output_type": "stream",
     "text": [
      "data science\n",
      "data science\n"
     ]
    }
   ],
   "source": [
    "# Strings could be delimited by single quotes or doubles, but always in pairs:\n",
    "\n",
    "single_quoted_str = 'data science'\n",
    "double_quoted_str = \"data science\"\n",
    "print(single_quoted_str)\n",
    "print(double_quoted_str)"
   ]
  },
  {
   "cell_type": "code",
   "execution_count": 32,
   "id": "d9c6f547",
   "metadata": {},
   "outputs": [
    {
     "name": "stdout",
     "output_type": "stream",
     "text": [
      "\t\n",
      "1\n"
     ]
    }
   ],
   "source": [
    "# Backslash is used by Python for special characters encoding\n",
    "\n",
    "tab_string = '\\t'  # It's a tab\n",
    "print(tab_string)\n",
    "print(len(tab_string))"
   ]
  },
  {
   "cell_type": "code",
   "execution_count": null,
   "id": "6ed67dd2",
   "metadata": {},
   "outputs": [
    {
     "name": "stdout",
     "output_type": "stream",
     "text": [
      "\\t\n",
      "2\n"
     ]
    }
   ],
   "source": [
    "# If special characters are wanted as their are, \"raw strings\" can be created\n",
    "\n",
    "not_tab_string = r'\\t'\n",
    "print(not_tab_string)\n",
    "print(len(not_tab_string))"
   ]
  },
  {
   "cell_type": "code",
   "execution_count": 34,
   "id": "8ca695f0",
   "metadata": {},
   "outputs": [
    {
     "name": "stdout",
     "output_type": "stream",
     "text": [
      "First line,\n",
      "second line,\n",
      "third line\n",
      "\n"
     ]
    }
   ],
   "source": [
    "# Multiline strings can be created with triple quotes\n",
    "multiline_str = '''First line,\n",
    "second line,\n",
    "third line\n",
    "'''\n",
    "\n",
    "print(multiline_str)"
   ]
  },
  {
   "cell_type": "code",
   "execution_count": 35,
   "id": "d4f9bbb5",
   "metadata": {},
   "outputs": [
    {
     "name": "stdout",
     "output_type": "stream",
     "text": [
      "Noah Gonzalez\n",
      "Noah Gonzalez\n",
      "Noah Gonzalez\n"
     ]
    }
   ],
   "source": [
    "# A f-string can substitute values for strings:\n",
    "\n",
    "first_name = 'Noah'\n",
    "last_name = 'Gonzalez'\n",
    "\n",
    "full_name = f'{first_name} {last_name}'\n",
    "\n",
    "# Other ways are not too easy to handle\n",
    "\n",
    "full_name2 = first_name + ' ' + last_name               # Sum of strings\n",
    "full_name3 = '{0} {1}'.format(first_name, last_name)    # string.format\n",
    "\n",
    "\n",
    "print(full_name)\n",
    "print(full_name2)\n",
    "print(full_name3)"
   ]
  },
  {
   "cell_type": "markdown",
   "id": "8c1a5645",
   "metadata": {},
   "source": [
    "### Exceptions"
   ]
  },
  {
   "cell_type": "code",
   "execution_count": null,
   "id": "b6f44c0c",
   "metadata": {},
   "outputs": [
    {
     "name": "stdout",
     "output_type": "stream",
     "text": [
      "cannot divide by zero\n"
     ]
    }
   ],
   "source": [
    "# If shomething is wrong Python raise an Exception. Exception can crash a program if they are not properly handled, the can be handled using \"try\" and \"except\" \n",
    "# Exceptions make the code cleaner and readable\n",
    "\n",
    "try:\n",
    "    print(0/0)\n",
    "except ZeroDivisionError:\n",
    "    print('cannot divide by zero')"
   ]
  },
  {
   "cell_type": "markdown",
   "id": "3c5947bb",
   "metadata": {},
   "source": [
    "### Lists"
   ]
  },
  {
   "cell_type": "code",
   "execution_count": null,
   "id": "8a8f1b92",
   "metadata": {},
   "outputs": [
    {
     "name": "stdout",
     "output_type": "stream",
     "text": [
      "[1, 2, 3]\n",
      "['string', 0.1, True]\n",
      "[[1, 2, 3], ['string', 0.1, True], []]\n",
      "3\n",
      "6\n"
     ]
    }
   ],
   "source": [
    "# One of the most essential Python's data structure is the list\n",
    "# A list is a ordered collection (ad an array in other languages but with functionality added)\n",
    "\n",
    "int_list = [1, 2, 3]\n",
    "heterogeneous_list = ['string', 0.1, True]\n",
    "list_of_lists = [int_list, heterogeneous_list, []]\n",
    "list_lenght = len(int_list)\n",
    "list_sum = sum(int_list)\n",
    "\n",
    "print(int_list)\n",
    "print(heterogeneous_list)\n",
    "print(list_of_lists)\n",
    "print(list_lenght)\n",
    "print(list_sum)"
   ]
  },
  {
   "cell_type": "code",
   "execution_count": null,
   "id": "1fa4493a",
   "metadata": {},
   "outputs": [
    {
     "name": "stdout",
     "output_type": "stream",
     "text": [
      "[0, 1, 2, 3, 4, 5, 6, 7, 8, 9]\n",
      "0\n",
      "1\n",
      "9\n",
      "8\n",
      "[-1, 1, 2, 3, 4, 5, 6, 7, 8, 9]\n"
     ]
    }
   ],
   "source": [
    "# The n item of a list can be set or fetched with brackets \"[]\" and its index\n",
    "\n",
    "x = [0, 1, 2, 3, 4, 5, 6, 7, 8, 9]\n",
    "zero = x[0]\n",
    "\n",
    "print(x)\n",
    "print(zero)\n",
    "\n",
    "one = x[1]\n",
    "nine = x[-1]        # Pythonic for last item\n",
    "eight = x[-2]       # Pythonic for penultimate item\n",
    "x[0] = -1           # Change first index to -1\n",
    "\n",
    "print(one)\n",
    "print(nine)\n",
    "print(eight)\n",
    "print(x)"
   ]
  },
  {
   "cell_type": "code",
   "execution_count": null,
   "id": "d55bd63b",
   "metadata": {},
   "outputs": [
    {
     "name": "stdout",
     "output_type": "stream",
     "text": [
      "[-1, 1, 2]\n",
      "[3, 4, 5, 6, 7, 8, 9]\n",
      "[1, 2, 3, 4]\n",
      "[7, 8, 9]\n",
      "[1, 2, 3, 4, 5, 6, 7, 8]\n",
      "[-1, 1, 2, 3, 4, 5, 6, 7, 8, 9]\n"
     ]
    }
   ],
   "source": [
    "# Also brackets can be used to create list slices\n",
    "# Slice i:j means all items from i (included) to j (excluded)\n",
    "\n",
    "\n",
    "first_three = x[:3]\n",
    "three_to_end = x[3:]\n",
    "one_to_four = x[1:5]\n",
    "last_three = x[-3:]\n",
    "without_first_and_last = x[1:-1]\n",
    "copy_of_x = x[:]\n",
    "\n",
    "\n",
    "print(first_three)\n",
    "print(three_to_end)\n",
    "print(one_to_four)\n",
    "print(last_three)\n",
    "print(without_first_and_last)\n",
    "print(copy_of_x)"
   ]
  },
  {
   "cell_type": "code",
   "execution_count": 44,
   "id": "c6df6a84",
   "metadata": {},
   "outputs": [
    {
     "name": "stdout",
     "output_type": "stream",
     "text": [
      "[-1, 3, 6, 9]\n",
      "[5, 4, 3]\n"
     ]
    }
   ],
   "source": [
    "# Slices allow a third argument to indicate stride, that can be negative\n",
    "\n",
    "every_third = x[::3]\n",
    "five_to_three = x[5:2:-1]\n",
    "\n",
    "print(every_third)\n",
    "print(five_to_three)"
   ]
  },
  {
   "cell_type": "code",
   "execution_count": null,
   "id": "ea4bd258",
   "metadata": {},
   "outputs": [
    {
     "name": "stdout",
     "output_type": "stream",
     "text": [
      "True\n",
      "False\n"
     ]
    }
   ],
   "source": [
    "# The \"in\" operator checks items of the list\n",
    "# This check examine the list items one by one, so unless the list is short it takes a long time\n",
    "\n",
    "print(1 in [1, 2, 3])\n",
    "print(0 in [1, 2, 3])"
   ]
  },
  {
   "cell_type": "code",
   "execution_count": 47,
   "id": "f289e147",
   "metadata": {},
   "outputs": [
    {
     "name": "stdout",
     "output_type": "stream",
     "text": [
      "[1, 2, 3, 4, 5, 6]\n"
     ]
    }
   ],
   "source": [
    "# If a list need to be modified, \"extend\" can be used to add items\n",
    "\n",
    "x = [1, 2, 3]\n",
    "x.extend([4, 5, 6])\n",
    "\n",
    "print(x)"
   ]
  },
  {
   "cell_type": "code",
   "execution_count": 48,
   "id": "7ec62201",
   "metadata": {},
   "outputs": [
    {
     "name": "stdout",
     "output_type": "stream",
     "text": [
      "[1, 2, 3]\n",
      "[1, 2, 3, 4, 5, 6]\n"
     ]
    }
   ],
   "source": [
    "# If a list should not be modified, it could be extended in another variable\n",
    "\n",
    "x = [1, 2, 3]\n",
    "y = x + [4, 5, 6]\n",
    "\n",
    "print(x)\n",
    "print(y)"
   ]
  },
  {
   "cell_type": "code",
   "execution_count": 49,
   "id": "ed635301",
   "metadata": {},
   "outputs": [
    {
     "name": "stdout",
     "output_type": "stream",
     "text": [
      "[1, 2, 3, 0]\n"
     ]
    }
   ],
   "source": [
    "# It is more frequent to add items to a list one by one\n",
    "\n",
    "x = [1, 2, 3]\n",
    "x.append(0)\n",
    "\n",
    "print(x)"
   ]
  },
  {
   "cell_type": "code",
   "execution_count": 50,
   "id": "4a1caaa0",
   "metadata": {},
   "outputs": [
    {
     "name": "stdout",
     "output_type": "stream",
     "text": [
      "1\n",
      "2\n"
     ]
    }
   ],
   "source": [
    "# Frequently it is convenient to unpack lists (when the number of items is known)\n",
    "\n",
    "x, y = [1, 2]\n",
    "\n",
    "print(x)\n",
    "print(y)"
   ]
  },
  {
   "cell_type": "markdown",
   "id": "4fe5de6e",
   "metadata": {},
   "source": [
    "### Tuples"
   ]
  },
  {
   "cell_type": "code",
   "execution_count": null,
   "id": "8546467d",
   "metadata": {},
   "outputs": [
    {
     "name": "stdout",
     "output_type": "stream",
     "text": [
      "[1, 3]\n",
      "cannot modify a tuple\n"
     ]
    }
   ],
   "source": [
    "# Tuples are like immutable lists. They are specified using parentheses \"()\" or nothing\n",
    "\n",
    "a_list = [1, 2]\n",
    "a_tuple = (1, 2)\n",
    "other_tuple = 3, 4\n",
    "a_list[1] = 3\n",
    "\n",
    "print(a_list)\n",
    "\n",
    "try:\n",
    "    a_tuple[1] = 3\n",
    "except TypeError:\n",
    "    print('cannot modify a tuple')"
   ]
  },
  {
   "cell_type": "code",
   "execution_count": 52,
   "id": "8eb7b2d4",
   "metadata": {},
   "outputs": [
    {
     "name": "stdout",
     "output_type": "stream",
     "text": [
      "(5, 6)\n",
      "15 50\n"
     ]
    }
   ],
   "source": [
    "# Tuples are a comfortable way to return many values of functions\n",
    "\n",
    "def sum_and_product(x, y):\n",
    "    return (x + y), (x * y)\n",
    "\n",
    "sp = sum_and_product(2, 3)\n",
    "s, p = sum_and_product(5, 10)\n",
    "\n",
    "print(sp)\n",
    "print(s, p)"
   ]
  },
  {
   "cell_type": "code",
   "execution_count": 53,
   "id": "705e87c0",
   "metadata": {},
   "outputs": [
    {
     "name": "stdout",
     "output_type": "stream",
     "text": [
      "1 2\n",
      "2 1\n"
     ]
    }
   ],
   "source": [
    "# Tuples (and lists) can be used for multiple assignation\n",
    "\n",
    "x, y = 1, 2\n",
    "\n",
    "print(x, y)\n",
    "\n",
    "x, y = y, x     # Pythonic way to interchange variables\n",
    "\n",
    "print(x, y)"
   ]
  },
  {
   "cell_type": "markdown",
   "id": "fbf9f421",
   "metadata": {},
   "source": [
    "### Dictionaries"
   ]
  },
  {
   "cell_type": "code",
   "execution_count": 5,
   "id": "4be80275",
   "metadata": {},
   "outputs": [
    {
     "name": "stdout",
     "output_type": "stream",
     "text": [
      "{}\n",
      "{}\n",
      "{'Noah': 88, 'Tim': 95}\n"
     ]
    }
   ],
   "source": [
    "# Fundamental data structure, associate values to keys and allows to retrieve quickly the value of a specific key\n",
    "\n",
    "empty_dict = {}                     # Pythonic way\n",
    "empty_dict2 = dict()                # Another way\n",
    "grades = {'Noah': 88, 'Tim': 95}    # Literal dict\n",
    "\n",
    "print(empty_dict)\n",
    "print(empty_dict2)\n",
    "print(grades)"
   ]
  },
  {
   "cell_type": "code",
   "execution_count": 7,
   "id": "04008436",
   "metadata": {},
   "outputs": [
    {
     "name": "stdout",
     "output_type": "stream",
     "text": [
      "88\n",
      "no grade for Melisa\n"
     ]
    }
   ],
   "source": [
    "# A value for a key could be retrieved using brackes \"[]\"\n",
    "\n",
    "noahs_grade = grades['Noah']\n",
    "\n",
    "print(noahs_grade)\n",
    "\n",
    "# But a KeyError will be araise if a non-existent key is asked\n",
    "\n",
    "try:\n",
    "    melisas_grade = grades['Melisa']\n",
    "except KeyError:\n",
    "        print('no grade for Melisa')"
   ]
  },
  {
   "cell_type": "code",
   "execution_count": null,
   "id": "f7dc5473",
   "metadata": {},
   "outputs": [
    {
     "name": "stdout",
     "output_type": "stream",
     "text": [
      "True\n",
      "False\n"
     ]
    }
   ],
   "source": [
    "# Existence of a key could be evaluated using \"in\"\n",
    "# This evaluation is even faster for large dictionaries\n",
    "\n",
    "noah_has_grade = 'Noah' in grades\n",
    "melisa_has_grade = 'Melisa' in grades\n",
    "\n",
    "print(noah_has_grade)\n",
    "print(melisa_has_grade)"
   ]
  },
  {
   "cell_type": "code",
   "execution_count": 12,
   "id": "768aae63",
   "metadata": {},
   "outputs": [
    {
     "name": "stdout",
     "output_type": "stream",
     "text": [
      "88\n",
      "0\n",
      "None\n"
     ]
    }
   ],
   "source": [
    "# Dictionaries have a \"get\" method that returns a default value (instead an exception) when a searched key is not in the dictionary\n",
    "\n",
    "noahs_grade = grades.get('Noah', 0)\n",
    "melisas_grade = grades.get('Melisa', 0)\n",
    "no_ones_grade = grades.get('No One')        # Default values is \"None\"\n",
    "\n",
    "print(noahs_grade)\n",
    "print(melisas_grade)\n",
    "print(no_ones_grade)"
   ]
  },
  {
   "cell_type": "code",
   "execution_count": 14,
   "id": "56352130",
   "metadata": {},
   "outputs": [
    {
     "name": "stdout",
     "output_type": "stream",
     "text": [
      "{'Noah': 88, 'Tim': 99, 'Melisa': 100}\n"
     ]
    }
   ],
   "source": [
    "# Key/Value pairs can be assigned using brackets \"[]\"\n",
    "\n",
    "grades['Tim'] = 99              # Replace previous value\n",
    "grades['Melisa'] = 100          # Third entry is added\n",
    "\n",
    "print(grades)"
   ]
  },
  {
   "cell_type": "code",
   "execution_count": 15,
   "id": "187bc424",
   "metadata": {},
   "outputs": [
    {
     "name": "stdout",
     "output_type": "stream",
     "text": [
      "{'user': 'Noah', 'text': 'Data Science is awesome', 'retweet_count': 100, 'hashtags': ['#data', '#science', '#datascience', '#awesome']}\n"
     ]
    }
   ],
   "source": [
    "# Dictionaries can be used to represent structured data:\n",
    "\n",
    "tweet = {\n",
    "    'user': 'Noah',\n",
    "    'text': 'Data Science is awesome',\n",
    "    'retweet_count': 100,\n",
    "    'hashtags': ['#data', '#science', '#datascience', '#awesome']\n",
    "}\n",
    "\n",
    "print(tweet)"
   ]
  },
  {
   "cell_type": "code",
   "execution_count": 16,
   "id": "00ff65a5",
   "metadata": {},
   "outputs": [
    {
     "name": "stdout",
     "output_type": "stream",
     "text": [
      "dict_keys(['user', 'text', 'retweet_count', 'hashtags'])\n",
      "dict_values(['Noah', 'Data Science is awesome', 100, ['#data', '#science', '#datascience', '#awesome']])\n",
      "dict_items([('user', 'Noah'), ('text', 'Data Science is awesome'), ('retweet_count', 100), ('hashtags', ['#data', '#science', '#datascience', '#awesome'])])\n",
      "True\n",
      "True\n",
      "True\n"
     ]
    }
   ],
   "source": [
    "# Also all items in a dictionary can be showed\n",
    "\n",
    "tweet_keys = tweet.keys()\n",
    "tweet_values = tweet.values()\n",
    "tweet_items = tweet.items()\n",
    "search_key = 'user' in tweet_keys\n",
    "search_key2 = 'user' in tweet\n",
    "search_key3 = 'Noah' in tweet_values\n",
    "\n",
    "print(tweet_keys)\n",
    "print(tweet_values)\n",
    "print(tweet_items)\n",
    "print(search_key)\n",
    "print(search_key2)\n",
    "print(search_key3)"
   ]
  },
  {
   "cell_type": "code",
   "execution_count": null,
   "id": "81622561",
   "metadata": {},
   "outputs": [],
   "source": [
    "# Keys in a dictionary can be \"hashables\". Lists cannot be used as keys"
   ]
  },
  {
   "cell_type": "markdown",
   "id": "a04b1f16",
   "metadata": {},
   "source": [
    "#### defaultdict"
   ]
  },
  {
   "cell_type": "code",
   "execution_count": 17,
   "id": "3dfa4abc",
   "metadata": {},
   "outputs": [],
   "source": [
    "# Imagine we need to count the words in a document\n",
    "\n",
    "document = [\n",
    "    'positive', 'gem', 'infection', 'twilight', 'borrow', \n",
    "    'count', 'leader', 'divide', 'positive', 'bond', \n",
    "    'deficiency', 'beach', 'infection', 'faith', 'beach', \n",
    "    'study', 'divide', 'deficiency', 'divide', 'positive', \n",
    "    'gem', 'infection', 'art', 'infection', 'positive', \n",
    "    'leader', 'divide', 'leader', 'count', 'infection', \n",
    "    'beach', 'count', 'beach', 'study', 'positive', \n",
    "    'borrow', 'faith', 'deficiency', 'bond', 'infection', \n",
    "    'gem', 'gem', 'count', 'deficiency', 'divide', \n",
    "    'deficiency', 'deficiency', 'study', 'coin', 'positive', \n",
    "    'gem', 'divide', 'study', 'divide', 'count', \n",
    "    'study', 'divide', 'divide', 'count', 'deficiency', \n",
    "    'faith', 'twilight', 'deficiency', 'faith', 'borrow', \n",
    "    'count', 'deficiency', 'positive', 'count'\n",
    "    ]"
   ]
  },
  {
   "cell_type": "code",
   "execution_count": 18,
   "id": "332cb21d",
   "metadata": {},
   "outputs": [
    {
     "name": "stdout",
     "output_type": "stream",
     "text": [
      "{'positive': 7, 'gem': 5, 'infection': 6, 'twilight': 2, 'borrow': 3, 'count': 8, 'leader': 3, 'divide': 9, 'bond': 2, 'deficiency': 9, 'beach': 4, 'faith': 4, 'study': 5, 'art': 1, 'coin': 1}\n"
     ]
    }
   ],
   "source": [
    "# An obvious way to reach that is to create a dictionary where keys are words and values are counters\n",
    "# When checking each word counter, it can be increased if it already exists or added it if it doesn't\n",
    "\n",
    "word_counts = {}\n",
    "\n",
    "for word in document:\n",
    "    if word in word_counts:\n",
    "        word_counts[word] += 1\n",
    "    else:\n",
    "        word_counts[word] = 1\n",
    "\n",
    "print(word_counts)"
   ]
  },
  {
   "cell_type": "code",
   "execution_count": 19,
   "id": "32a814a8",
   "metadata": {},
   "outputs": [
    {
     "name": "stdout",
     "output_type": "stream",
     "text": [
      "{'positive': 7, 'gem': 5, 'infection': 6, 'twilight': 2, 'borrow': 3, 'count': 8, 'leader': 3, 'divide': 9, 'bond': 2, 'deficiency': 9, 'beach': 4, 'faith': 4, 'study': 5, 'art': 1, 'coin': 1}\n"
     ]
    }
   ],
   "source": [
    "# Exception can be handled when checking a non existing key\n",
    "\n",
    "word_counts = {}\n",
    "\n",
    "for word in document:\n",
    "    try:\n",
    "        word_counts[word] += 1\n",
    "    except KeyError:\n",
    "        word_counts[word] = 1\n",
    "\n",
    "print(word_counts)"
   ]
  },
  {
   "cell_type": "code",
   "execution_count": 20,
   "id": "f1f64ee1",
   "metadata": {},
   "outputs": [
    {
     "data": {
      "text/plain": [
       "{'positive': 7,\n",
       " 'gem': 5,\n",
       " 'infection': 6,\n",
       " 'twilight': 2,\n",
       " 'borrow': 3,\n",
       " 'count': 8,\n",
       " 'leader': 3,\n",
       " 'divide': 9,\n",
       " 'bond': 2,\n",
       " 'deficiency': 9,\n",
       " 'beach': 4,\n",
       " 'faith': 4,\n",
       " 'study': 5,\n",
       " 'art': 1,\n",
       " 'coin': 1}"
      ]
     },
     "execution_count": 20,
     "metadata": {},
     "output_type": "execute_result"
    }
   ],
   "source": [
    "# A third way is using \"get\"\n",
    "\n",
    "word_counts = {}\n",
    "\n",
    "for word in document:\n",
    "    previous_count = word_counts.get(word, 0)\n",
    "    word_counts[word] = previous_count + 1\n",
    "\n",
    "word_counts"
   ]
  },
  {
   "cell_type": "code",
   "execution_count": 21,
   "id": "2684e552",
   "metadata": {},
   "outputs": [
    {
     "name": "stdout",
     "output_type": "stream",
     "text": [
      "defaultdict(<class 'int'>, {'positive': 7, 'gem': 5, 'infection': 6, 'twilight': 2, 'borrow': 3, 'count': 8, 'leader': 3, 'divide': 9, 'bond': 2, 'deficiency': 9, 'beach': 4, 'faith': 4, 'study': 5, 'art': 1, 'coin': 1})\n"
     ]
    }
   ],
   "source": [
    "# This is difficult to handle, that's why \"defaultdict\" is useful\n",
    "# A \"defaultdict\" is like a normal dictionary but when a non existing key is searched, first it adds a value for the key using a zero-argument function\n",
    "# \"collections\" package is needed\n",
    "\n",
    "from collections import defaultdict\n",
    "\n",
    "word_counts = defaultdict(int)          # int() produce 0\n",
    "for word in document:\n",
    "    word_counts[word] += 1\n",
    "\n",
    "print(word_counts)"
   ]
  },
  {
   "cell_type": "code",
   "execution_count": 22,
   "id": "fa974d66",
   "metadata": {},
   "outputs": [
    {
     "name": "stdout",
     "output_type": "stream",
     "text": [
      "defaultdict(<class 'list'>, {2: [1]})\n",
      "defaultdict(<class 'dict'>, {'Noah': {'City': 'Mexico City'}})\n",
      "defaultdict(<function <lambda> at 0x0000027AF35712F0>, {2: [0, 1]})\n"
     ]
    }
   ],
   "source": [
    "# Also can be useful with \"list\" or \"dict\" or our own functions\n",
    "\n",
    "dd_list = defaultdict(list)                     # list() produce an empty list\n",
    "dd_list[2].append(1)\n",
    "\n",
    "dd_dict = defaultdict(dict)                     # dict() produce an empty dict\n",
    "dd_dict['Noah']['City'] = 'Mexico City'\n",
    "\n",
    "dd_pair = defaultdict(lambda: [0, 0])\n",
    "dd_pair[2][1] = 1\n",
    "\n",
    "print(dd_list)\n",
    "print(dd_dict)\n",
    "print(dd_pair)"
   ]
  },
  {
   "cell_type": "markdown",
   "id": "7dfe8743",
   "metadata": {},
   "source": [
    "### Counters"
   ]
  },
  {
   "cell_type": "code",
   "execution_count": 23,
   "id": "beda5ac7",
   "metadata": {},
   "outputs": [
    {
     "name": "stdout",
     "output_type": "stream",
     "text": [
      "Counter({0: 2, 1: 1, 2: 1})\n"
     ]
    }
   ],
   "source": [
    "# A \"Counter\" turns a values sequence into a \"defauldict(int)\" type object mapping keys in counters\n",
    "\n",
    "from collections import Counter\n",
    "\n",
    "c = Counter([0, 1, 2, 0])\n",
    "\n",
    "print(c)"
   ]
  },
  {
   "cell_type": "code",
   "execution_count": 26,
   "id": "1c7b4e6c",
   "metadata": {},
   "outputs": [
    {
     "name": "stdout",
     "output_type": "stream",
     "text": [
      "Counter({'divide': 9, 'deficiency': 9, 'count': 8, 'positive': 7, 'infection': 6, 'gem': 5, 'study': 5, 'beach': 4, 'faith': 4, 'borrow': 3, 'leader': 3, 'twilight': 2, 'bond': 2, 'art': 1, 'coin': 1})\n"
     ]
    }
   ],
   "source": [
    "# This is a very simple way to solve the \"word_counts\" problem\n",
    "\n",
    "word_counts = Counter(document)\n",
    "\n",
    "print(word_counts)"
   ]
  },
  {
   "cell_type": "code",
   "execution_count": 27,
   "id": "de032362",
   "metadata": {},
   "outputs": [
    {
     "name": "stdout",
     "output_type": "stream",
     "text": [
      "divide 9\n",
      "deficiency 9\n",
      "count 8\n",
      "positive 7\n",
      "infection 6\n",
      "gem 5\n",
      "study 5\n",
      "beach 4\n",
      "faith 4\n",
      "borrow 3\n"
     ]
    }
   ],
   "source": [
    "# A \"Counter\" instance has a \"most_common\" method that is used frequently\n",
    "\n",
    "for word, count in word_counts.most_common(10):\n",
    "    print(word, count)"
   ]
  },
  {
   "cell_type": "markdown",
   "id": "7458c49e",
   "metadata": {},
   "source": [
    "### Sets"
   ]
  },
  {
   "cell_type": "code",
   "execution_count": 29,
   "id": "6dd6f148",
   "metadata": {},
   "outputs": [
    {
     "name": "stdout",
     "output_type": "stream",
     "text": [
      "{2, 3, 5, 7}\n"
     ]
    }
   ],
   "source": [
    "# Another useful data structure is the \"set\", that represents a distinct items collection\n",
    "# A set can be defined listing its items between braces \"{}\"\n",
    "\n",
    "primes_below_10 = {2, 3, 5, 7}\n",
    "\n",
    "print(primes_below_10)"
   ]
  },
  {
   "cell_type": "code",
   "execution_count": 31,
   "id": "cbab3d3e",
   "metadata": {},
   "outputs": [
    {
     "name": "stdout",
     "output_type": "stream",
     "text": [
      "{1, 2}\n"
     ]
    }
   ],
   "source": [
    "# But this doesn't work for empty sets because \"{}\" means an empty dict\n",
    "# This case needs \"set()\"\n",
    "\n",
    "s = set()\n",
    "s.add(1)\n",
    "s.add(2)\n",
    "s.add(2)                # 2 cannot be added twice\n",
    "\n",
    "print(s)"
   ]
  },
  {
   "cell_type": "code",
   "execution_count": null,
   "id": "8db30cef",
   "metadata": {},
   "outputs": [
    {
     "name": "stdout",
     "output_type": "stream",
     "text": [
      "False\n",
      "False\n"
     ]
    }
   ],
   "source": [
    "# \"in\" operation is faster with sets\n",
    "\n",
    "stopwords_list = ['a', 'an', 'at', 'yet', 'you', 'hundred of other words']\n",
    "print('zip' in stopwords_list)                     # Each item needs to be verified\n",
    "\n",
    "stopwords_set = set(stopwords_list)                # Faster\n",
    "print('zip' in stopwords_set)"
   ]
  },
  {
   "cell_type": "code",
   "execution_count": 1,
   "id": "31aefef6",
   "metadata": {},
   "outputs": [
    {
     "name": "stdout",
     "output_type": "stream",
     "text": [
      "[1, 2, 3, 1, 2, 3]\n",
      "6\n",
      "{1, 2, 3}\n",
      "3\n",
      "[1, 2, 3]\n"
     ]
    }
   ],
   "source": [
    "# Unique items of a collection can be finded\n",
    "\n",
    "item_list = [1, 2, 3, 1, 2, 3]\n",
    "num_items = len(item_list)\n",
    "item_set = set(item_list)\n",
    "num_distinct_items = len(item_set)\n",
    "distinct_item_list = list(item_set)\n",
    "\n",
    "print(item_list)\n",
    "print(num_items)\n",
    "print(item_set)\n",
    "print(num_distinct_items)\n",
    "print(distinct_item_list)"
   ]
  }
 ],
 "metadata": {
  "kernelspec": {
   "display_name": "Python 3.6.8 (ds_scrath_env)",
   "language": "python",
   "name": "ds_scratch_env"
  },
  "language_info": {
   "codemirror_mode": {
    "name": "ipython",
    "version": 3
   },
   "file_extension": ".py",
   "mimetype": "text/x-python",
   "name": "python",
   "nbconvert_exporter": "python",
   "pygments_lexer": "ipython3",
   "version": "3.6.8"
  }
 },
 "nbformat": 4,
 "nbformat_minor": 5
}
